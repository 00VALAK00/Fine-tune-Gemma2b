{
 "cells": [
  {
   "cell_type": "code",
   "id": "initial_id",
   "metadata": {
    "collapsed": true,
    "ExecuteTime": {
     "end_time": "2024-08-04T17:53:16.641007Z",
     "start_time": "2024-08-04T17:53:07.090298Z"
    }
   },
   "source": [
    "!pip3 install -q -U bitsandbytes\n",
    "!pip3 install -q -U peft\n",
    "!pip3 install -q -U trl\n",
    "!pip3 install -q -U accelerate\n",
    "!pip3 install -q -U datasets\n",
    "!pip3 install -q -U transformers"
   ],
   "outputs": [],
   "execution_count": 1
  },
  {
   "cell_type": "code",
   "source": [
    "import os\n",
    "from huggingface_hub import notebook_login\n",
    "notebook_login()"
   ],
   "metadata": {
    "collapsed": false,
    "ExecuteTime": {
     "end_time": "2024-08-04T17:53:17.036190Z",
     "start_time": "2024-08-04T17:53:16.641964Z"
    }
   },
   "id": "1320e050daa92227",
   "outputs": [
    {
     "data": {
      "text/plain": [
       "VBox(children=(HTML(value='<center> <img\\nsrc=https://huggingface.co/front/assets/huggingface_logo-noborder.sv…"
      ],
      "application/vnd.jupyter.widget-view+json": {
       "version_major": 2,
       "version_minor": 0,
       "model_id": "1469eed8e72d445f90855a054e820aab"
      }
     },
     "metadata": {},
     "output_type": "display_data"
    }
   ],
   "execution_count": 2
  },
  {
   "cell_type": "code",
   "source": [
    "from transformers import  AutoTokenizer, AutoModelForCausalLM, BitsAndBytesConfig\n",
    "import torch\n",
    "\n",
    "device=torch.device(\"cuda\") if torch.cuda.is_available() else torch.device(\"cpu\")\n",
    "\n",
    "model_id=\"google/gemma-2-2b\"\n",
    "bnb_config_4bit=BitsAndBytesConfig(load_in_4bit=True,\n",
    "                                   bnb_4bit_use_double_quant=True,\n",
    "                                   bnb_4bit_quant_type=\"nf4\",\n",
    "                                   bnb_4bit_compute_dtype=torch.float16)\n",
    "\n",
    "bnb_config_8bit=BitsAndBytesConfig(load_in_8bit=True)\n",
    "\n",
    "\n"
   ],
   "metadata": {
    "collapsed": false,
    "ExecuteTime": {
     "end_time": "2024-08-05T08:42:26.476349Z",
     "start_time": "2024-08-05T08:42:26.471599Z"
    }
   },
   "id": "8b80450f3deccc73",
   "outputs": [],
   "execution_count": 14
  },
  {
   "cell_type": "code",
   "source": [
    "model=AutoModelForCausalLM.from_pretrained(model_id,\n",
    "                                           device_map=\"auto\",\n",
    "                                           quantization_config=bnb_config_4bit,\n",
    "                                           attn_implementation='eager'\n",
    "                                           )\n",
    "tokenizer=AutoTokenizer.from_pretrained(model_id)\n",
    "tokenizer.pad_token=tokenizer.eos_token\n",
    "tokenizer.padding_side=\"right\"\n"
   ],
   "metadata": {
    "collapsed": false,
    "ExecuteTime": {
     "end_time": "2024-08-05T08:42:51.700653Z",
     "start_time": "2024-08-05T08:42:27.368342Z"
    }
   },
   "id": "5c895464a93f0ac",
   "outputs": [
    {
     "data": {
      "text/plain": [
       "Loading checkpoint shards:   0%|          | 0/3 [00:00<?, ?it/s]"
      ],
      "application/vnd.jupyter.widget-view+json": {
       "version_major": 2,
       "version_minor": 0,
       "model_id": "f478f7796849438e90ea8ff571111319"
      }
     },
     "metadata": {},
     "output_type": "display_data"
    }
   ],
   "execution_count": 15
  },
  {
   "cell_type": "code",
   "source": [
    "#prompt=\"what dinner should I have today?\"\n",
    "#input_ids=tokenizer(prompt,return_tensors=\"pt\").input_ids.to(device)\n",
    "#with torch.no_grad():\n",
    "    #output_ids=model.generate(input_ids,max_length=300,do_sample=True,top_k=2)\n",
    "    \n",
    "#output=tokenizer.decode(output_ids[0],skip_special_tokens=True)"
   ],
   "metadata": {
    "collapsed": false,
    "ExecuteTime": {
     "end_time": "2024-08-04T17:53:57.921712Z",
     "start_time": "2024-08-04T17:53:57.919219Z"
    }
   },
   "id": "59d6b4738461a4a0",
   "outputs": [],
   "execution_count": 5
  },
  {
   "metadata": {
    "ExecuteTime": {
     "end_time": "2024-08-04T17:53:57.928137Z",
     "start_time": "2024-08-04T17:53:57.924242Z"
    }
   },
   "cell_type": "code",
   "source": "# number of params\n",
   "id": "8ec30a0335f42757",
   "outputs": [],
   "execution_count": 6
  },
  {
   "metadata": {
    "ExecuteTime": {
     "end_time": "2024-08-05T08:43:03.651535Z",
     "start_time": "2024-08-05T08:43:03.645282Z"
    }
   },
   "cell_type": "code",
   "source": [
    "# Get the target modules for lora config\n",
    "import bitsandbytes\n",
    "\n",
    "def get_modules(model):\n",
    "    modules=set()\n",
    "    for name, module in model.named_modules():\n",
    "        if isinstance(module,bitsandbytes.nn.Linear4bit):\n",
    "            names=name.split(\".\")\n",
    "            modules.add(names[-1] if len(name)>1 else names[0])\n",
    "    return modules\n",
    "\n",
    "target_modules=get_modules(model)   \n"
   ],
   "id": "7392308e8cf94ce4",
   "outputs": [],
   "execution_count": 16
  },
  {
   "metadata": {
    "ExecuteTime": {
     "end_time": "2024-08-05T08:43:10.618488Z",
     "start_time": "2024-08-05T08:43:10.613980Z"
    }
   },
   "cell_type": "code",
   "source": "target_modules",
   "id": "8bed634638c58e2d",
   "outputs": [
    {
     "data": {
      "text/plain": [
       "{'down_proj', 'gate_proj', 'k_proj', 'o_proj', 'q_proj', 'up_proj', 'v_proj'}"
      ]
     },
     "execution_count": 20,
     "metadata": {},
     "output_type": "execute_result"
    }
   ],
   "execution_count": 20
  },
  {
   "cell_type": "code",
   "source": [
    "# Lora adapters\n",
    "from peft import get_peft_model,LoraConfig,prepare_model_for_kbit_training,TaskType\n",
    "\n",
    "lora_config=LoraConfig(r=16,\n",
    "    target_modules=target_modules,\n",
    "    task_type=TaskType.CAUSAL_LM,\n",
    "    lora_alpha=32,\n",
    "    lora_dropout=0.05)"
   ],
   "metadata": {
    "collapsed": false,
    "ExecuteTime": {
     "end_time": "2024-08-05T08:43:04.406877Z",
     "start_time": "2024-08-05T08:43:04.401094Z"
    }
   },
   "id": "842d6ab7665aa284",
   "outputs": [],
   "execution_count": 17
  },
  {
   "metadata": {
    "ExecuteTime": {
     "end_time": "2024-08-05T08:43:05.826465Z",
     "start_time": "2024-08-05T08:43:05.300420Z"
    }
   },
   "cell_type": "code",
   "source": "peft_model=get_peft_model(model,lora_config)",
   "id": "cad0308fd844c8e",
   "outputs": [],
   "execution_count": 18
  },
  {
   "metadata": {
    "ExecuteTime": {
     "end_time": "2024-08-05T08:43:05.909247Z",
     "start_time": "2024-08-05T08:43:05.898095Z"
    }
   },
   "cell_type": "code",
   "source": "peft_model.print_trainable_parameters()",
   "id": "52fb11583f364d77",
   "outputs": [
    {
     "name": "stdout",
     "output_type": "stream",
     "text": [
      "trainable params: 20,766,720 || all params: 2,635,108,608 || trainable%: 0.7881\n"
     ]
    }
   ],
   "execution_count": 19
  },
  {
   "metadata": {},
   "cell_type": "markdown",
   "source": "# Prepare dataset for Instruction Finetuning\n",
   "id": "8d577b3455dd6da1"
  },
  {
   "metadata": {
    "ExecuteTime": {
     "end_time": "2024-08-05T08:43:19.682829Z",
     "start_time": "2024-08-05T08:43:15.815994Z"
    }
   },
   "cell_type": "code",
   "source": [
    "import datasets\n",
    "ds=datasets.load_dataset(\"nvidia/HelpSteer2\",split=\"train\")\n",
    "ds"
   ],
   "id": "449f1488ad0c5d48",
   "outputs": [
    {
     "data": {
      "text/plain": [
       "Dataset({\n",
       "    features: ['prompt', 'response', 'helpfulness', 'correctness', 'coherence', 'complexity', 'verbosity'],\n",
       "    num_rows: 20324\n",
       "})"
      ]
     },
     "execution_count": 21,
     "metadata": {},
     "output_type": "execute_result"
    }
   ],
   "execution_count": 21
  },
  {
   "metadata": {
    "ExecuteTime": {
     "end_time": "2024-08-05T08:47:26.254994Z",
     "start_time": "2024-08-05T08:47:26.011510Z"
    }
   },
   "cell_type": "code",
   "source": [
    "import random\n",
    "idx=random.randint(0,len(ds)-1)\n",
    "print(f\"prompt:\\n\\n{ds['prompt'][idx]}\\n\\n\")\n",
    "print(f\"response:\\n\\n{ds['response'][idx]}\")"
   ],
   "id": "9bf6246dcaf0cbc2",
   "outputs": [
    {
     "ename": "NameError",
     "evalue": "name 'ds' is not defined",
     "output_type": "error",
     "traceback": [
      "\u001B[1;31m---------------------------------------------------------------------------\u001B[0m",
      "\u001B[1;31mNameError\u001B[0m                                 Traceback (most recent call last)",
      "Cell \u001B[1;32mIn[1], line 2\u001B[0m\n\u001B[0;32m      1\u001B[0m \u001B[38;5;28;01mimport\u001B[39;00m \u001B[38;5;21;01mrandom\u001B[39;00m\n\u001B[1;32m----> 2\u001B[0m idx\u001B[38;5;241m=\u001B[39mrandom\u001B[38;5;241m.\u001B[39mrandint(\u001B[38;5;241m0\u001B[39m,\u001B[38;5;28mlen\u001B[39m(\u001B[43mds\u001B[49m)\u001B[38;5;241m-\u001B[39m\u001B[38;5;241m1\u001B[39m)\n\u001B[0;32m      3\u001B[0m \u001B[38;5;28mprint\u001B[39m(\u001B[38;5;124mf\u001B[39m\u001B[38;5;124m\"\u001B[39m\u001B[38;5;124mprompt:\u001B[39m\u001B[38;5;130;01m\\n\u001B[39;00m\u001B[38;5;130;01m\\n\u001B[39;00m\u001B[38;5;132;01m{\u001B[39;00mds[\u001B[38;5;124m'\u001B[39m\u001B[38;5;124mprompt\u001B[39m\u001B[38;5;124m'\u001B[39m][idx]\u001B[38;5;132;01m}\u001B[39;00m\u001B[38;5;130;01m\\n\u001B[39;00m\u001B[38;5;130;01m\\n\u001B[39;00m\u001B[38;5;124m\"\u001B[39m)\n\u001B[0;32m      4\u001B[0m \u001B[38;5;28mprint\u001B[39m(\u001B[38;5;124mf\u001B[39m\u001B[38;5;124m\"\u001B[39m\u001B[38;5;124mresponse:\u001B[39m\u001B[38;5;130;01m\\n\u001B[39;00m\u001B[38;5;130;01m\\n\u001B[39;00m\u001B[38;5;132;01m{\u001B[39;00mds[\u001B[38;5;124m'\u001B[39m\u001B[38;5;124mresponse\u001B[39m\u001B[38;5;124m'\u001B[39m][idx]\u001B[38;5;132;01m}\u001B[39;00m\u001B[38;5;124m\"\u001B[39m)\n",
      "\u001B[1;31mNameError\u001B[0m: name 'ds' is not defined"
     ]
    }
   ],
   "execution_count": 1
  },
  {
   "metadata": {
    "ExecuteTime": {
     "end_time": "2024-08-05T08:43:19.828076Z",
     "start_time": "2024-08-05T08:43:19.774528Z"
    }
   },
   "cell_type": "code",
   "source": [
    "def format_prompt(example):\n",
    "    prompt_template=\"Below is a instruction that describes a task. Write a response that appropriately completes the request.\\n\\n### Instruction:\\n{instruction}\\n\\n### Response:\\n{response}\"   \n",
    "    return prompt_template.format(instruction=example[\"prompt\"],response=example[\"response\"])\n",
    "\n",
    "ds=ds.map(lambda x:{\"formated_prompt\":format_prompt(x)})"
   ],
   "id": "fc6169a567a54154",
   "outputs": [],
   "execution_count": 23
  },
  {
   "metadata": {
    "ExecuteTime": {
     "end_time": "2024-08-05T08:43:25.947105Z",
     "start_time": "2024-08-05T08:43:19.829593Z"
    }
   },
   "cell_type": "code",
   "source": [
    "ds=ds.shuffle()\n",
    "ds=ds.map(lambda x:tokenizer(x[\"formated_prompt\"]),batched=True)"
   ],
   "id": "f18f779db1ea8d33",
   "outputs": [
    {
     "data": {
      "text/plain": [
       "Map:   0%|          | 0/20324 [00:00<?, ? examples/s]"
      ],
      "application/vnd.jupyter.widget-view+json": {
       "version_major": 2,
       "version_minor": 0,
       "model_id": "766dbe895f2c48029e4ad1fb856a8776"
      }
     },
     "metadata": {},
     "output_type": "display_data"
    }
   ],
   "execution_count": 24
  },
  {
   "metadata": {
    "ExecuteTime": {
     "end_time": "2024-08-05T08:43:26.011874Z",
     "start_time": "2024-08-05T08:43:25.948617Z"
    }
   },
   "cell_type": "code",
   "source": "dataset=ds.train_test_split(test_size=.3,shuffle=True)",
   "id": "b4b184073b5dcf5b",
   "outputs": [],
   "execution_count": 25
  },
  {
   "metadata": {
    "ExecuteTime": {
     "end_time": "2024-08-05T08:43:26.015356Z",
     "start_time": "2024-08-05T08:43:26.012888Z"
    }
   },
   "cell_type": "code",
   "source": [
    "train_dataset=dataset[\"train\"]\n",
    "test_dataset=dataset[\"test\"]"
   ],
   "id": "9f6c85f60db1a218",
   "outputs": [],
   "execution_count": 26
  },
  {
   "metadata": {},
   "cell_type": "markdown",
   "source": "## Training ",
   "id": "794dd5a8c60ad275"
  },
  {
   "metadata": {
    "ExecuteTime": {
     "end_time": "2024-08-05T08:43:26.024957Z",
     "start_time": "2024-08-05T08:43:26.017373Z"
    }
   },
   "cell_type": "code",
   "source": "peft_model.print_trainable_parameters()",
   "id": "988c04445c70e213",
   "outputs": [
    {
     "name": "stdout",
     "output_type": "stream",
     "text": [
      "trainable params: 20,766,720 || all params: 2,635,108,608 || trainable%: 0.7881\n"
     ]
    }
   ],
   "execution_count": 27
  },
  {
   "metadata": {
    "ExecuteTime": {
     "end_time": "2024-08-05T08:45:04.062418Z",
     "start_time": "2024-08-05T08:45:04.057788Z"
    }
   },
   "cell_type": "code",
   "source": [
    "from trl import SFTTrainer\n",
    "import transformers \n",
    "\n",
    "def get_trainer(peft_model):\n",
    "    training_args=transformers.TrainingArguments(\n",
    "        per_device_train_batch_size=1,\n",
    "        gradient_accumulation_steps=4,\n",
    "        warmup_ratio=0.3,\n",
    "        max_steps=80,\n",
    "        learning_rate=2e-4,\n",
    "        num_train_epochs=1,\n",
    "        logging_steps=1,\n",
    "        logging_dir=\"./logs\",\n",
    "        output_dir=\"outputs\",\n",
    "        optim=\"paged_adamw_8bit\",\n",
    "        save_strategy=\"epoch\")\n",
    "\n",
    "    trainer=SFTTrainer(peft_model,\n",
    "                   train_dataset=train_dataset,\n",
    "                   eval_dataset=test_dataset,\n",
    "                   peft_config=lora_config,\n",
    "                   dataset_text_field=\"formated_prompt\",\n",
    "                   max_seq_length=1024,\n",
    "                   tokenizer=tokenizer,\n",
    "                   args=training_args,\n",
    "                   data_collator=transformers.DataCollatorForLanguageModeling(tokenizer, mlm=False))\n",
    "    return trainer"
   ],
   "id": "8ff0edef159ef7a8",
   "outputs": [],
   "execution_count": 30
  },
  {
   "metadata": {
    "ExecuteTime": {
     "end_time": "2024-08-05T08:45:09.289407Z",
     "start_time": "2024-08-05T08:45:09.271676Z"
    }
   },
   "cell_type": "code",
   "source": [
    "# for memory efficiency\n",
    "model=prepare_model_for_kbit_training(peft_model,use_gradient_checkpointing=True)\n",
    "\n",
    "# empty gpu cache\n",
    "torch.cuda.empty_cache()\n"
   ],
   "id": "fa26b8afddcaff77",
   "outputs": [],
   "execution_count": 31
  },
  {
   "metadata": {},
   "cell_type": "code",
   "outputs": [],
   "execution_count": null,
   "source": "trainer=get_trainer(peft_model)",
   "id": "1643c32db1bdddf0"
  },
  {
   "metadata": {
    "ExecuteTime": {
     "start_time": "2024-08-05T08:14:12.093020Z"
    }
   },
   "cell_type": "code",
   "source": "trainer.train()",
   "id": "1543b3ef49d55f02",
   "outputs": [],
   "execution_count": null
  },
  {
   "metadata": {
    "ExecuteTime": {
     "end_time": "2024-08-04T18:14:02.866417Z",
     "start_time": "2024-08-04T18:14:02.866417Z"
    }
   },
   "cell_type": "code",
   "source": [
    "new_model_id=model_id+\"-instruct-HelpSteer2\"\n",
    "trainer.save_model(new_model_id)"
   ],
   "id": "4c41b60ab37a45a1",
   "outputs": [],
   "execution_count": null
  },
  {
   "metadata": {},
   "cell_type": "markdown",
   "source": "## Second training ",
   "id": "246fb367dd9c6858"
  },
  {
   "metadata": {
    "ExecuteTime": {
     "end_time": "2024-08-05T08:45:28.948616Z",
     "start_time": "2024-08-05T08:45:27.103754Z"
    }
   },
   "cell_type": "code",
   "source": [
    "from peft import LoraConfig,get_peft_model,PeftConfig,PeftModel\n",
    "checkpoint=\"outputs/checkpoint-80\"\n",
    "from transformers import AutoModelForCausalLM\n",
    "peft_config=PeftConfig.from_pretrained(r\"outputs/checkpoint-80\")\n",
    "model = AutoModelForCausalLM.from_pretrained(peft_config.base_model_name_or_path)\n",
    "peft_model=PeftModel.from_pretrained(model,checkpoint,is_trainable=True)"
   ],
   "id": "1c4fa699e9b38bf1",
   "outputs": [
    {
     "data": {
      "text/plain": [
       "Loading checkpoint shards:   0%|          | 0/3 [00:00<?, ?it/s]"
      ],
      "application/vnd.jupyter.widget-view+json": {
       "version_major": 2,
       "version_minor": 0,
       "model_id": "e8cfd3b6759f4a81a6ad22bdaa56d29b"
      }
     },
     "metadata": {},
     "output_type": "display_data"
    }
   ],
   "execution_count": 32
  },
  {
   "metadata": {
    "ExecuteTime": {
     "end_time": "2024-08-05T08:45:50.288215Z",
     "start_time": "2024-08-05T08:45:50.279994Z"
    }
   },
   "cell_type": "code",
   "source": "peft_model.print_trainable_parameters()",
   "id": "bde88b71c1380431",
   "outputs": [
    {
     "name": "stdout",
     "output_type": "stream",
     "text": [
      "trainable params: 20,766,720 || all params: 2,635,108,608 || trainable%: 0.7881\n"
     ]
    }
   ],
   "execution_count": 33
  },
  {
   "metadata": {},
   "cell_type": "code",
   "source": "second_trainer=get_trainer(peft_model)",
   "id": "56df2e5dc5562fe9",
   "outputs": [],
   "execution_count": null
  },
  {
   "metadata": {},
   "cell_type": "code",
   "outputs": [],
   "execution_count": null,
   "source": "second_trainer.train()",
   "id": "79d8e3d068ef987"
  },
  {
   "metadata": {},
   "cell_type": "code",
   "outputs": [],
   "execution_count": null,
   "source": [
    "new_model_id=model_id+\"-instruct-HelpSteer2\"\n",
    "trainer.save_model(new_model_id)"
   ],
   "id": "f922575895e16a28"
  }
 ],
 "metadata": {
  "kernelspec": {
   "display_name": "Python 3",
   "language": "python",
   "name": "python3"
  },
  "language_info": {
   "codemirror_mode": {
    "name": "ipython",
    "version": 2
   },
   "file_extension": ".py",
   "mimetype": "text/x-python",
   "name": "python",
   "nbconvert_exporter": "python",
   "pygments_lexer": "ipython2",
   "version": "2.7.6"
  }
 },
 "nbformat": 4,
 "nbformat_minor": 5
}
